{
  "nbformat": 4,
  "nbformat_minor": 0,
  "metadata": {
    "colab": {
      "provenance": [],
      "authorship_tag": "ABX9TyMgQDF5UtxGuJ7rqVmLSEpY",
      "include_colab_link": true
    },
    "kernelspec": {
      "name": "python3",
      "display_name": "Python 3"
    },
    "language_info": {
      "name": "python"
    }
  },
  "cells": [
    {
      "cell_type": "markdown",
      "metadata": {
        "id": "view-in-github",
        "colab_type": "text"
      },
      "source": [
        "<a href=\"https://colab.research.google.com/github/pollyjuice74/Error-Bit-Decoding/blob/main/HammingCode.ipynb\" target=\"_parent\"><img src=\"https://colab.research.google.com/assets/colab-badge.svg\" alt=\"Open In Colab\"/></a>"
      ]
    },
    {
      "cell_type": "markdown",
      "source": [
        "\n",
        "Hamming Codes implementation\n",
        "\n",
        "---\n",
        "\n"
      ],
      "metadata": {
        "id": "CLuLZebfWkv9"
      }
    },
    {
      "cell_type": "code",
      "execution_count": 35,
      "metadata": {
        "colab": {
          "base_uri": "https://localhost:8080/"
        },
        "id": "NTLZ-L__Um6k",
        "outputId": "4c64eabc-d583-450c-f632-a3ee9e795eb7"
      },
      "outputs": [
        {
          "output_type": "stream",
          "name": "stdout",
          "text": [
            "Original Message: [1 0 1 1]\n",
            "Encoded Codeword: [1 0 1 1 0 1 0]\n",
            "Received Codeword with Error at Position 3 : [1 0 1 1 0 1 0]\n",
            "Syndrome: [0 0 0]\n"
          ]
        }
      ],
      "source": [
        "import numpy as np\n",
        "\n",
        "# Define the generator matrix (G) for a (7, 4) Hamming code\n",
        "G = np.array([\n",
        "    [1, 0, 0, 0, 1, 1, 1],\n",
        "    [0, 1, 0, 0, 1, 0, 1],\n",
        "    [0, 0, 1, 0, 0, 1, 1],\n",
        "    [0, 0, 0, 1, 1, 1, 0]\n",
        "])\n",
        "\n",
        "# Define the parity-check matrix (H)\n",
        "k,n = G.shape\n",
        "P = G[:, k-n:]\n",
        "H = np.concatenate((P.T, np.eye(n-k, dtype=int)), axis=1)\n",
        "\n",
        "# Message\n",
        "m = np.array([1, 0, 1, 1])\n",
        "\n",
        "# Codeword\n",
        "c = (m @ G) % 2\n",
        "r = np.copy(c) # Recieved codeword\n",
        "\n",
        "syndrome = (r @ H.T) % 2\n",
        "\n",
        "# Print the results\n",
        "print(\"Original Message:\", m)\n",
        "print(\"Encoded Codeword:\", c)\n",
        "print(\"Received Codeword with Error at Position\", error_position, \":\", r)\n",
        "print(\"Syndrome:\", syndrome)\n"
      ]
    },
    {
      "cell_type": "code",
      "source": [
        "# Adding error\n",
        "error_position = 3\n",
        "r[error_position] = (r[error_position] + 1) % 2\n",
        "\n",
        "syndrome = (r @ H.T) % 2\n",
        "\n",
        "print(\"Received Codeword with Error at Position\", error_position, \":\", r)\n",
        "print(\"Syndrome:\", syndrome) # SHOULD HAVE ERROR"
      ],
      "metadata": {
        "colab": {
          "base_uri": "https://localhost:8080/"
        },
        "id": "s5u7nJcLYtku",
        "outputId": "e037149d-0d24-4e82-b2d4-4e8b1be17aab"
      },
      "execution_count": 36,
      "outputs": [
        {
          "output_type": "stream",
          "name": "stdout",
          "text": [
            "Received Codeword with Error at Position 3 : [1 0 1 0 0 1 0]\n",
            "Syndrome: [1 1 0]\n"
          ]
        }
      ]
    }
  ]
}