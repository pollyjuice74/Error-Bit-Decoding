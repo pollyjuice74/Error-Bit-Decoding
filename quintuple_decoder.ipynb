{
  "nbformat": 4,
  "nbformat_minor": 0,
  "metadata": {
    "colab": {
      "provenance": [],
      "authorship_tag": "ABX9TyONIaAKCrmTRuIjdJIZlJE3",
      "include_colab_link": true
    },
    "kernelspec": {
      "name": "python3",
      "display_name": "Python 3"
    },
    "language_info": {
      "name": "python"
    }
  },
  "cells": [
    {
      "cell_type": "markdown",
      "metadata": {
        "id": "view-in-github",
        "colab_type": "text"
      },
      "source": [
        "<a href=\"https://colab.research.google.com/github/pollyjuice74/LDPC-codes/blob/main/quintuple_decoder.ipynb\" target=\"_parent\"><img src=\"https://colab.research.google.com/assets/colab-badge.svg\" alt=\"Open In Colab\"/></a>"
      ]
    },
    {
      "cell_type": "markdown",
      "source": [
        "#**SKIP THIS SECTION**"
      ],
      "metadata": {
        "id": "kW-8k2MPrQIA"
      }
    },
    {
      "cell_type": "code",
      "source": [
        "# Import TensorFlow and NumPy\n",
        "import matplotlib.pyplot as plt\n",
        "import numpy as np\n",
        "import tensorflow as tf\n",
        "\n",
        "# Import Sionna\n",
        "try:\n",
        "    import sionna as sn\n",
        "except ImportError as e:\n",
        "    # Install Sionna if package is not already installed\n",
        "    import os\n",
        "    os.system(\"pip install sionna\")\n",
        "    import sionna as sn\n",
        "\n",
        "# For plotting\n",
        "%matplotlib inline\n",
        "# also try %matplotlib widget"
      ],
      "metadata": {
        "id": "Ga5ogQ3e4KM8"
      },
      "execution_count": 26,
      "outputs": []
    },
    {
      "cell_type": "code",
      "source": [
        "from sionna.fec.utils import load_parity_check_examples, LinearEncoder, GaussianPriorSource\n",
        "from sionna.utils import BinarySource, ebnodb2no, BitwiseMutualInformation, hard_decisions\n",
        "from sionna.utils.metrics import compute_ber\n",
        "from sionna.utils.plotting import PlotBER\n",
        "from sionna.mapping import Mapper, Demapper\n",
        "from sionna.channel import AWGN\n",
        "from sionna.fec.ldpc import LDPCBPDecoder\n",
        "from sionna.fec.linear import OSDecoder\n",
        "\n",
        "from tensorflow.keras.layers import Dense, Layer\n",
        "\n",
        "import torch\n",
        "import torch.nn as nn\n"
      ],
      "metadata": {
        "id": "PGv6OYiK4ybD"
      },
      "execution_count": 27,
      "outputs": []
    },
    {
      "cell_type": "markdown",
      "source": [
        "---\n",
        "\n",
        "# In the following cells there is the implementation for a quintuple decoder and a plot of the Bit Error Rates with the Error Probabilities.\n",
        "\n",
        "---\n",
        "\n"
      ],
      "metadata": {
        "id": "-EwpQb3HrPJP"
      }
    },
    {
      "cell_type": "code",
      "source": [
        "############################################################\n",
        "### READ THE COMMENTS IF YOU DON'T WANT TO READ THE CODE ###\n",
        "############################################################\n",
        "\n",
        "# This cell just GENERATES the DATA\n",
        "\n",
        "\n",
        "n = 10 # number of bits sent\n",
        "err_prob = 0.3 # error probability\n",
        "rep = 5 # ammount of times a bit will be repeated\n",
        "\n",
        "def generate_data(n, err_prob):\n",
        "  # Create random bits and repeat 5 times\n",
        "  bits = np.random.randint(0, 2, size=n)\n",
        "  repeat_bits = np.repeat(bits, rep)\n",
        "\n",
        "  # Create noise with a given error probability\n",
        "  noise = np.random.rand(n*rep) < err_prob\n",
        "  noisy_bits = np.logical_xor(repeat_bits, noise).astype(int)\n",
        "\n",
        "  # Return \"recieved\" repeated noisy bits, and original bits sent\n",
        "  return torch.tensor(noisy_bits, dtype=float), torch.tensor(bits)\n",
        "\n",
        "\n",
        "# Call generate data function\n",
        "noisy_bits, bits = generate_data(n, err_prob)\n",
        "\n",
        "# Example data\n",
        "bits, noisy_bits"
      ],
      "metadata": {
        "colab": {
          "base_uri": "https://localhost:8080/"
        },
        "id": "5sC2EmuWIiT7",
        "outputId": "4962786c-a434-40d9-de03-0d1557e900ec"
      },
      "execution_count": 43,
      "outputs": [
        {
          "output_type": "execute_result",
          "data": {
            "text/plain": [
              "(tensor([1, 0, 1, 0, 0, 1, 0, 0, 0, 1]),\n",
              " tensor([1., 1., 1., 1., 1., 0., 0., 1., 0., 1., 0., 1., 0., 1., 0., 0., 0., 1.,\n",
              "         1., 0., 0., 0., 1., 0., 1., 0., 1., 0., 1., 0., 1., 0., 0., 0., 1., 0.,\n",
              "         1., 0., 0., 1., 1., 0., 0., 0., 1., 1., 0., 1., 1., 0.],\n",
              "        dtype=torch.float64))"
            ]
          },
          "metadata": {},
          "execution_count": 43
        }
      ]
    },
    {
      "cell_type": "code",
      "source": [
        "# This cell is for DECODING using majority voting system\n",
        "\n",
        "\n",
        "def decode_bits(noisy_bits, original_bits):\n",
        "  # Reshape the noisy bits recieved to (num bits sent, quintuple repetitions) shaped tensor\n",
        "  noisy_bits = noisy_bits.reshape(-1, rep)\n",
        "\n",
        "  # Calculate the mean of the repetitions\n",
        "  decoded_bits = torch.mean(noisy_bits, axis=1).round().to(torch.int32)\n",
        "\n",
        "  # Calculate Bit Error Rate\n",
        "  error = torch.sum(decoded_bits != original_bits)\n",
        "  ber = error / n\n",
        "\n",
        "  return decoded_bits, ber\n",
        "\n",
        "\n",
        "# Call decoding function\n",
        "decoded_bits, ber = decode_bits(noisy_bits, bits)\n",
        "\n",
        "# Example data\n",
        "decoded_bits.shape, ber"
      ],
      "metadata": {
        "colab": {
          "base_uri": "https://localhost:8080/"
        },
        "id": "o9mJxLQMIors",
        "outputId": "bb9be2af-ff65-4902-f51d-d6f07c60198c"
      },
      "execution_count": 44,
      "outputs": [
        {
          "output_type": "execute_result",
          "data": {
            "text/plain": [
              "(torch.Size([10]), tensor(0.2000))"
            ]
          },
          "metadata": {},
          "execution_count": 44
        }
      ]
    },
    {
      "cell_type": "code",
      "source": [
        "# This cell calculates Bit Error Rates given Error Probabilities and plots them in a graph\n",
        "\n",
        "\n",
        "error_probs = np.arange(0, 1.05, 0.05) # List of Error Probabilityies as x coordinate\n",
        "ber_values = [] # List of Bit Error Rates as the y coordinate\n",
        "n = 100000 # Number of sent bits\n",
        "\n",
        "# Loop to calculate the BER for each error probability\n",
        "for error_prob in error_probs:\n",
        "    # Generate random bits and noisy recieved bits\n",
        "    noisy_bits, original_bits = generate_data(n, error_prob)\n",
        "    # Decodes recieved bits and calculates BER\n",
        "    decoded_bits, ber = decode_bits(noisy_bits, original_bits)\n",
        "    ber_values.append(ber)\n",
        "\n",
        "# Plotting\n",
        "plt.plot(error_probs, ber_values, marker='o')\n",
        "plt.title('Bit Error Rate vs. Error Probability')\n",
        "plt.xlabel('Error Probability')\n",
        "plt.ylabel('Bit Error Rate')\n",
        "plt.grid(True)\n",
        "plt.show()"
      ],
      "metadata": {
        "colab": {
          "base_uri": "https://localhost:8080/",
          "height": 472
        },
        "id": "Xa5uhnbjJEKa",
        "outputId": "c2a4e4f2-dc4d-4eff-bae1-7481cdc5dcab"
      },
      "execution_count": 45,
      "outputs": [
        {
          "output_type": "display_data",
          "data": {
            "text/plain": [
              "<Figure size 640x480 with 1 Axes>"
            ],
            "image/png": "[encoded data removed]"
          },
          "metadata": {}
        }
      ]
    },
    {
      "cell_type": "code",
      "source": [],
      "metadata": {
        "id": "P5Ud_kPnq25O"
      },
      "execution_count": null,
      "outputs": []
    }
  ]
}