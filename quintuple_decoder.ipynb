{
  "nbformat": 4,
  "nbformat_minor": 0,
  "metadata": {
    "colab": {
      "provenance": [],
      "authorship_tag": "ABX9TyNtOdJUHnJV+0u0pYhz/Cj3",
      "include_colab_link": true
    },
    "kernelspec": {
      "name": "python3",
      "display_name": "Python 3"
    },
    "language_info": {
      "name": "python"
    }
  },
  "cells": [
    {
      "cell_type": "markdown",
      "metadata": {
        "id": "view-in-github",
        "colab_type": "text"
      },
      "source": [
        "<a href=\"https://colab.research.google.com/github/pollyjuice74/LDPC-codes/blob/main/quintuple_decoder.ipynb\" target=\"_parent\"><img src=\"https://colab.research.google.com/assets/colab-badge.svg\" alt=\"Open In Colab\"/></a>"
      ]
    },
    {
      "cell_type": "markdown",
      "source": [
        "#**SKIP THIS SECTION**"
      ],
      "metadata": {
        "id": "kW-8k2MPrQIA"
      }
    },
    {
      "cell_type": "code",
      "source": [
        "# Import TensorFlow and NumPy\n",
        "import matplotlib.pyplot as plt\n",
        "import numpy as np\n",
        "import tensorflow as tf\n",
        "\n",
        "# Import Sionna\n",
        "'''try:\n",
        "    import sionna as sn\n",
        "except ImportError as e:\n",
        "    # Install Sionna if package is not already installed\n",
        "    import os\n",
        "    os.system(\"pip install sionna\")\n",
        "    import sionna as sn'''\n",
        "\n",
        "# For plotting\n",
        "%matplotlib inline\n",
        "# also try %matplotlib widget"
      ],
      "metadata": {
        "id": "Ga5ogQ3e4KM8"
      },
      "execution_count": 2,
      "outputs": []
    },
    {
      "cell_type": "code",
      "source": [
        "'''from sionna.fec.utils import load_parity_check_examples, LinearEncoder, GaussianPriorSource\n",
        "from sionna.utils import BinarySource, ebnodb2no, BitwiseMutualInformation, hard_decisions\n",
        "from sionna.utils.metrics import compute_ber\n",
        "from sionna.utils.plotting import PlotBER\n",
        "from sionna.mapping import Mapper, Demapper\n",
        "from sionna.channel import AWGN\n",
        "from sionna.fec.ldpc import LDPCBPDecoder\n",
        "from sionna.fec.linear import OSDecoder'''\n",
        "\n",
        "from tensorflow.keras.layers import Dense, Layer\n",
        "\n",
        "!pip install torch-geometric\n",
        "\n",
        "import torch\n",
        "import torch.nn as nn\n",
        "import torch.nn.functional as F\n",
        "from torch_geometric.nn import GCNConv\n",
        "from torch_geometric.data import Data, DataLoader\n"
      ],
      "metadata": {
        "id": "PGv6OYiK4ybD",
        "colab": {
          "base_uri": "https://localhost:8080/"
        },
        "outputId": "ff009256-ed55-41f6-99fd-701a3b61cea6"
      },
      "execution_count": 3,
      "outputs": [
        {
          "output_type": "stream",
          "name": "stdout",
          "text": [
            "Collecting torch-geometric\n",
            "  Downloading torch_geometric-2.4.0-py3-none-any.whl (1.0 MB)\n",
            "\u001b[2K     \u001b[90m━━━━━━━━━━━━━━━━━━━━━━━━━━━━━━━━━━━━━━━━\u001b[0m \u001b[32m1.0/1.0 MB\u001b[0m \u001b[31m10.3 MB/s\u001b[0m eta \u001b[36m0:00:00\u001b[0m\n",
            "\u001b[?25hRequirement already satisfied: tqdm in /usr/local/lib/python3.10/dist-packages (from torch-geometric) (4.66.1)\n",
            "Requirement already satisfied: numpy in /usr/local/lib/python3.10/dist-packages (from torch-geometric) (1.23.5)\n",
            "Requirement already satisfied: scipy in /usr/local/lib/python3.10/dist-packages (from torch-geometric) (1.11.3)\n",
            "Requirement already satisfied: jinja2 in /usr/local/lib/python3.10/dist-packages (from torch-geometric) (3.1.2)\n",
            "Requirement already satisfied: requests in /usr/local/lib/python3.10/dist-packages (from torch-geometric) (2.31.0)\n",
            "Requirement already satisfied: pyparsing in /usr/local/lib/python3.10/dist-packages (from torch-geometric) (3.1.1)\n",
            "Requirement already satisfied: scikit-learn in /usr/local/lib/python3.10/dist-packages (from torch-geometric) (1.2.2)\n",
            "Requirement already satisfied: psutil>=5.8.0 in /usr/local/lib/python3.10/dist-packages (from torch-geometric) (5.9.5)\n",
            "Requirement already satisfied: MarkupSafe>=2.0 in /usr/local/lib/python3.10/dist-packages (from jinja2->torch-geometric) (2.1.3)\n",
            "Requirement already satisfied: charset-normalizer<4,>=2 in /usr/local/lib/python3.10/dist-packages (from requests->torch-geometric) (3.3.2)\n",
            "Requirement already satisfied: idna<4,>=2.5 in /usr/local/lib/python3.10/dist-packages (from requests->torch-geometric) (3.4)\n",
            "Requirement already satisfied: urllib3<3,>=1.21.1 in /usr/local/lib/python3.10/dist-packages (from requests->torch-geometric) (2.0.7)\n",
            "Requirement already satisfied: certifi>=2017.4.17 in /usr/local/lib/python3.10/dist-packages (from requests->torch-geometric) (2023.7.22)\n",
            "Requirement already satisfied: joblib>=1.1.1 in /usr/local/lib/python3.10/dist-packages (from scikit-learn->torch-geometric) (1.3.2)\n",
            "Requirement already satisfied: threadpoolctl>=2.0.0 in /usr/local/lib/python3.10/dist-packages (from scikit-learn->torch-geometric) (3.2.0)\n",
            "Installing collected packages: torch-geometric\n",
            "Successfully installed torch-geometric-2.4.0\n"
          ]
        }
      ]
    },
    {
      "cell_type": "markdown",
      "source": [
        "---\n",
        "\n",
        "# In the following cells there is the implementation for a quintuple decoder and a plot of the Bit Error Rates with the Error Probabilities.\n",
        "\n",
        "---\n",
        "\n"
      ],
      "metadata": {
        "id": "-EwpQb3HrPJP"
      }
    },
    {
      "cell_type": "code",
      "source": [
        "############################################################\n",
        "### READ THE COMMENTS IF YOU DON'T WANT TO READ THE CODE ###\n",
        "############################################################\n",
        "\n",
        "# This cell just GENERATES the DATA\n",
        "\n",
        "\n",
        "n = 10 # number of bits sent\n",
        "err_prob = 0.3 # error probability\n",
        "rep = 5 # ammount of times a bit will be repeated\n",
        "\n",
        "def generate_data(n, err_prob):\n",
        "  # Create random bits and repeat 5 times\n",
        "  bits = np.random.randint(0, 2, size=n)\n",
        "  repeat_bits = np.repeat(bits, rep)\n",
        "\n",
        "  # Create noise with a given error probability\n",
        "  noise = np.random.rand(n*rep) < err_prob\n",
        "  noisy_bits = np.logical_xor(repeat_bits, noise).astype(int)\n",
        "\n",
        "  # Return \"recieved\" repeated noisy bits, and original bits sent\n",
        "  return torch.tensor(noisy_bits, dtype=float), torch.tensor(bits)\n",
        "\n",
        "\n",
        "# Call generate data function\n",
        "noisy_bits, bits = generate_data(n, err_prob)\n",
        "\n",
        "# Example data\n",
        "bits, noisy_bits"
      ],
      "metadata": {
        "colab": {
          "base_uri": "https://localhost:8080/"
        },
        "id": "5sC2EmuWIiT7",
        "outputId": "b5a6eb87-5431-436d-8cc6-471d1b058964"
      },
      "execution_count": 4,
      "outputs": [
        {
          "output_type": "execute_result",
          "data": {
            "text/plain": [
              "(tensor([0, 0, 1, 0, 1, 0, 1, 1, 0, 0]),\n",
              " tensor([0., 0., 0., 1., 0., 0., 0., 1., 0., 1., 0., 1., 1., 1., 1., 0., 0., 0.,\n",
              "         1., 0., 0., 1., 0., 1., 1., 0., 0., 0., 0., 0., 0., 0., 0., 1., 0., 1.,\n",
              "         1., 1., 0., 1., 0., 0., 1., 0., 0., 0., 0., 1., 0., 0.],\n",
              "        dtype=torch.float64))"
            ]
          },
          "metadata": {},
          "execution_count": 4
        }
      ]
    },
    {
      "cell_type": "code",
      "source": [
        "# This cell is for DECODING using majority voting system\n",
        "\n",
        "\n",
        "def decode_bits(noisy_bits, original_bits):\n",
        "  # Reshape the noisy bits recieved to (num bits sent, quintuple repetitions) shaped tensor\n",
        "  noisy_bits = noisy_bits.reshape(-1, rep)\n",
        "\n",
        "  # Calculate the mean of the repetitions\n",
        "  decoded_bits = torch.mean(noisy_bits, axis=1).round().to(torch.int32)\n",
        "\n",
        "  # Calculate Bit Error Rate\n",
        "  error = torch.sum(decoded_bits != original_bits)\n",
        "  ber = error / n\n",
        "\n",
        "  return decoded_bits, ber\n",
        "\n",
        "\n",
        "# Call decoding function\n",
        "decoded_bits, ber = decode_bits(noisy_bits, bits)\n",
        "\n",
        "# Example data\n",
        "decoded_bits.shape, ber"
      ],
      "metadata": {
        "colab": {
          "base_uri": "https://localhost:8080/"
        },
        "id": "o9mJxLQMIors",
        "outputId": "735b421d-0eca-4521-c32d-1431cd091dc2"
      },
      "execution_count": 5,
      "outputs": [
        {
          "output_type": "execute_result",
          "data": {
            "text/plain": [
              "(torch.Size([10]), tensor(0.1000))"
            ]
          },
          "metadata": {},
          "execution_count": 5
        }
      ]
    },
    {
      "cell_type": "code",
      "source": [
        "# This cell CALCULATES Bit Error Rates(BER) given Error Probabilities and plots them in a graph\n",
        "\n",
        "\n",
        "error_probs = np.arange(0, 1.05, 0.05) # List of Error Probabilityies as x coordinate\n",
        "ber_values = [] # List of Bit Error Rates as the y coordinate\n",
        "n = 100000 # Number of sent bits\n",
        "\n",
        "# Loop to calculate the BER for each error probability\n",
        "for error_prob in error_probs:\n",
        "    # Generate random bits and noisy recieved bits\n",
        "    noisy_bits, original_bits = generate_data(n, error_prob)\n",
        "    # Decodes recieved bits and calculates BER\n",
        "    decoded_bits, ber = decode_bits(noisy_bits, original_bits)\n",
        "    ber_values.append(ber)\n",
        "\n",
        "# Plotting\n",
        "plt.plot(error_probs, ber_values, marker='o')\n",
        "plt.title('Bit Error Rate vs. Error Probability')\n",
        "plt.xlabel('Error Probability')\n",
        "plt.ylabel('Bit Error Rate')\n",
        "plt.grid(True)\n",
        "plt.show()"
      ],
      "metadata": {
        "colab": {
          "base_uri": "https://localhost:8080/",
          "height": 472
        },
        "id": "Xa5uhnbjJEKa",
        "outputId": "a1c96c22-5d7c-4861-92ee-757bde6cac32"
      },
      "execution_count": 6,
      "outputs": [
        {
          "output_type": "display_data",
          "data": {
            "text/plain": [
              "<Figure size 640x480 with 1 Axes>"
            ],
            "image/png": "[encoded data removed]"
          },
          "metadata": {}
        }
      ]
    },
    {
      "cell_type": "markdown",
      "source": [
        "---\n",
        "\n",
        "### For fun, this part is the implementation of a GNN for the purpose of the same quintuple bit error decoder.\n",
        "\n",
        "---"
      ],
      "metadata": {
        "id": "Poyyw8C_-Mqw"
      }
    },
    {
      "cell_type": "code",
      "source": [
        "# This cell defines a function to CREATE A BATCH OF DATA\n",
        "\n",
        "def create_graph_data(noisy_bits, original_bits, rep=5):\n",
        "  # Reshape quintuple repeated bit tensor of shape (50,) to (10, 5)\n",
        "  #   i.e. this makes each repeated bit into ONE NODE,\n",
        "  #   EACH NODE is the BIT repeated 5 times\n",
        "  x = torch.tensor(noisy_bits, dtype=torch.float).view(-1, rep)\n",
        "\n",
        "  # Makes the original 10 bits array into a tensor of shape (10,1)\n",
        "  y = torch.tensor(original_bits, dtype=torch.float)\n",
        "\n",
        "  # This loop FILLS an EDGE INDEX TENSOR of shape (2, 10)\n",
        "  #   [i, i+1] being the node i connected to the node i+1\n",
        "  #   This is repeated 10 times for the 10 bits/nodes sent\n",
        "  edge_index = list()\n",
        "  for i in range(x.size(0)-1):\n",
        "    edge_index.append([i, i+1])\n",
        "    edge_index.append([i+1, i])\n",
        "  edge_index = torch.tensor(edge_index, dtype=torch.long).t().contiguous()\n",
        "\n",
        "  # Creates DATA OBJECT\n",
        "  return Data(x=x, edge_index=edge_index, y=y)\n",
        "\n",
        "\n",
        "# TRAINING DATA\n",
        "# Using the previously defined function, create a graph data list, this will serve as the\n",
        "graph_data_list = [create_graph_data(*generate_data(n, err_prob)) for _ in range(100)]"
      ],
      "metadata": {
        "colab": {
          "base_uri": "https://localhost:8080/"
        },
        "id": "P5Ud_kPnq25O",
        "outputId": "3f9d37c3-53cb-4699-9302-b33aca5cd0f7"
      },
      "execution_count": 9,
      "outputs": [
        {
          "output_type": "stream",
          "name": "stderr",
          "text": [
            "<ipython-input-9-47eae122f8f1>:4: UserWarning: To copy construct from a tensor, it is recommended to use sourceTensor.clone().detach() or sourceTensor.clone().detach().requires_grad_(True), rather than torch.tensor(sourceTensor).\n",
            "  x = torch.tensor(noisy_bits, dtype=torch.float).view(-1, rep)\n",
            "<ipython-input-9-47eae122f8f1>:5: UserWarning: To copy construct from a tensor, it is recommended to use sourceTensor.clone().detach() or sourceTensor.clone().detach().requires_grad_(True), rather than torch.tensor(sourceTensor).\n",
            "  y = torch.tensor(original_bits, dtype=torch.float)\n",
            "/usr/local/lib/python3.10/dist-packages/torch_geometric/deprecation.py:22: UserWarning: 'data.DataLoader' is deprecated, use 'loader.DataLoader' instead\n",
            "  warnings.warn(out)\n"
          ]
        }
      ]
    },
    {
      "cell_type": "code",
      "source": [
        "# This cell DEFINES a simple two layer GNN\n",
        "\n",
        "n = 10\n",
        "rep = 5\n",
        "hidden_size = 16\n",
        "\n",
        "class GNNDecoder(nn.Module):\n",
        "  def __init__(self):\n",
        "    super(GNNDecoder, self).__init__()\n",
        "    # LAYERS OF THE NETWORK\n",
        "    self.conv1 = GCNConv(rep, hidden_size) # (5, 16)\n",
        "    self.conv2 = GCNConv(hidden_size, 1) # (16, 1)\n",
        "\n",
        "  def forward(self, data):\n",
        "    # Gets input graph data and edges\n",
        "    x, edge_index = data.x, data.edge_index\n",
        "\n",
        "    # Activation function for the first layer\n",
        "    x = F.relu(self.conv1(x, edge_index))\n",
        "    # Activation function for the second layer\n",
        "    x = torch.sigmoid(self.conv2(x, edge_index))\n",
        "    return x\n",
        "\n",
        "model = GNNDecoder()"
      ],
      "metadata": {
        "id": "64oPcC3-9aRG"
      },
      "execution_count": 17,
      "outputs": []
    },
    {
      "cell_type": "code",
      "source": [
        "train_loader = DataLoader(graph_data_list, batch_size=1, shuffle=True)\n",
        "criterion = nn.BCEWithLogitsLoss()\n",
        "optimizer = torch.optim.Adam(model.parameters(), lr=0.001)"
      ],
      "metadata": {
        "colab": {
          "base_uri": "https://localhost:8080/"
        },
        "id": "dyRARUJpYZjY",
        "outputId": "3131d2f3-c717-4d76-d2fa-bf53389cb539"
      },
      "execution_count": 18,
      "outputs": [
        {
          "output_type": "stream",
          "name": "stderr",
          "text": [
            "/usr/local/lib/python3.10/dist-packages/torch_geometric/deprecation.py:22: UserWarning: 'data.DataLoader' is deprecated, use 'loader.DataLoader' instead\n",
            "  warnings.warn(out)\n"
          ]
        }
      ]
    },
    {
      "cell_type": "code",
      "source": [
        "# Training loop\n",
        "\n",
        "num_epochs = 20\n",
        "\n",
        "for epoch in range(num_epochs):\n",
        "  model.train()\n",
        "  epoch_loss = 0\n",
        "\n",
        "  for data in train_loader:\n",
        "    outputs = model(data)\n",
        "    loss = criterion(torch.squeeze(outputs), data.y)\n",
        "\n",
        "    optimizer.zero_grad()\n",
        "    loss.backward()\n",
        "    optimizer.step()\n",
        "\n",
        "    epoch_loss += loss.item()\n",
        "\n",
        "  print(f'Epoch [{epoch+1}/{num_epochs}], Loss: {epoch_loss/len(train_loader)}')"
      ],
      "metadata": {
        "colab": {
          "base_uri": "https://localhost:8080/"
        },
        "id": "zpnyuqHPbR_5",
        "outputId": "b28a2a19-9a89-409d-94e3-b6b00ce15662"
      },
      "execution_count": 26,
      "outputs": [
        {
          "output_type": "stream",
          "name": "stdout",
          "text": [
            "Epoch [1/20], Loss: 0.6380134373903275\n",
            "Epoch [2/20], Loss: 0.6380005085468292\n",
            "Epoch [3/20], Loss: 0.6379889786243439\n",
            "Epoch [4/20], Loss: 0.6379797482490539\n",
            "Epoch [5/20], Loss: 0.6379700845479965\n",
            "Epoch [6/20], Loss: 0.6379601162672043\n",
            "Epoch [7/20], Loss: 0.6379506200551986\n",
            "Epoch [8/20], Loss: 0.6379444545507431\n",
            "Epoch [9/20], Loss: 0.6379377871751786\n",
            "Epoch [10/20], Loss: 0.6379324573278428\n",
            "Epoch [11/20], Loss: 0.637928056716919\n",
            "Epoch [12/20], Loss: 0.6379228800535202\n",
            "Epoch [13/20], Loss: 0.6379199802875519\n",
            "Epoch [14/20], Loss: 0.6379184436798095\n",
            "Epoch [15/20], Loss: 0.6379147517681122\n",
            "Epoch [16/20], Loss: 0.6379115599393844\n",
            "Epoch [17/20], Loss: 0.6379094910621643\n",
            "Epoch [18/20], Loss: 0.6379080450534821\n",
            "Epoch [19/20], Loss: 0.6379064029455185\n",
            "Epoch [20/20], Loss: 0.6379051971435546\n"
          ]
        }
      ]
    },
    {
      "cell_type": "code",
      "source": [
        "# Creates TEST DATA\n",
        "\n",
        "test_data = [create_graph_data(*generate_data(n, err_prob)) for _ in range(1000)]\n",
        "test_loader = DataLoader(test_data, batch_size=32, shuffle=False)"
      ],
      "metadata": {
        "colab": {
          "base_uri": "https://localhost:8080/"
        },
        "id": "9E2-3vDuoZxM",
        "outputId": "4f110d4f-f82c-4f55-a4a0-948927d428c5"
      },
      "execution_count": 30,
      "outputs": [
        {
          "output_type": "stream",
          "name": "stderr",
          "text": [
            "<ipython-input-9-47eae122f8f1>:4: UserWarning: To copy construct from a tensor, it is recommended to use sourceTensor.clone().detach() or sourceTensor.clone().detach().requires_grad_(True), rather than torch.tensor(sourceTensor).\n",
            "  x = torch.tensor(noisy_bits, dtype=torch.float).view(-1, rep)\n",
            "<ipython-input-9-47eae122f8f1>:5: UserWarning: To copy construct from a tensor, it is recommended to use sourceTensor.clone().detach() or sourceTensor.clone().detach().requires_grad_(True), rather than torch.tensor(sourceTensor).\n",
            "  y = torch.tensor(original_bits, dtype=torch.float)\n"
          ]
        }
      ]
    },
    {
      "cell_type": "code",
      "source": [
        "# EVALUATE MODEL'S PERFORMANCE\n",
        "\n",
        "model.eval()\n",
        "\n",
        "cor_pred = 0\n",
        "total_pred = 0\n",
        "\n",
        "with torch.no_grad():\n",
        "  for data in test_loader:\n",
        "    outputs = model(data)\n",
        "    predicted = torch.squeeze(outputs).round()\n",
        "\n",
        "    cor_pred += (predicted == data.y).sum().item()\n",
        "    total_pred += data.y.size(0)\n",
        "\n",
        "  acc = cor_pred / total_pred\n",
        "  print(f\"Test Accuracy: {acc} = {cor_pred}/{total_pred}\")"
      ],
      "metadata": {
        "colab": {
          "base_uri": "https://localhost:8080/"
        },
        "id": "dHu0TttuobrG",
        "outputId": "f4d348fc-2b77-48d4-ff3e-e7becd2bd03f"
      },
      "execution_count": 31,
      "outputs": [
        {
          "output_type": "stream",
          "name": "stdout",
          "text": [
            "Test Accuracy: 0.6949 = 6949/10000\n"
          ]
        }
      ]
    },
    {
      "cell_type": "markdown",
      "source": [
        "###Comparing the **GNN** and the simple **majority voting system(MVS)** algorithm, we can see that the **MVS(accuracy of 0.9)** outperformed the **GNN(accuracy of ~0.7)**"
      ],
      "metadata": {
        "id": "dXwefeL3tetF"
      }
    }
  ]
}